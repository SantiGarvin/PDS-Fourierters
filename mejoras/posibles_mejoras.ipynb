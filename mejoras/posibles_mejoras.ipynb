{
 "cells": [
  {
   "cell_type": "markdown",
   "id": "3926af65",
   "metadata": {},
   "source": [
    "# POSIBLES MEJORAS\n",
    "\n",
    "Se descirbirán posibles mejoras para aplicar al proyecto base"
   ]
  },
  {
   "cell_type": "markdown",
   "id": "649540f7",
   "metadata": {},
   "source": [
    "### NORMALIZACIÓN\n",
    "Objetivo: Hacer que las características dependan menos del volumen de grabación."
   ]
  },
  {
   "cell_type": "code",
   "execution_count": 1,
   "id": "6a078570",
   "metadata": {},
   "outputs": [],
   "source": [
    "# --- Mejora 1: Normalización ---\n",
    "import librosa\n",
    "import librosa.util # Importar librosa.util\n",
    "import numpy as np\n",
    "\n",
    "def compute_vocal_fingerprint_normalized(audio_path, sr=16000, n_mfcc=13):\n",
    "    y, sr = librosa.load(audio_path, sr=sr)\n",
    "\n",
    "    # --- NUEVO ---\n",
    "    # Normalizar la señal para que tenga un rango estándar (-1 a 1 aprox)\n",
    "    y = librosa.util.normalize(y)\n",
    "    # -----------\n",
    "\n",
    "    mfccs = librosa.feature.mfcc(y=y, sr=sr, n_mfcc=n_mfcc)\n",
    "    huella = np.mean(mfccs, axis=1) # Seguimos promediando por ahora\n",
    "    return huella\n"
   ]
  },
  {
   "cell_type": "markdown",
   "id": "ee1b0550",
   "metadata": {},
   "source": [
    "## Reducción de Ruido:\n",
    "\n",
    "### Libería Pedalboard\n",
    "\n",
    "En el siguiente [articulo](https://medium.com/@joshiprerak123/transform-your-audio-denoise-and-enhance-sound-quality-with-python-using-pedalboard-24da7c1df042) se describe como hacerlo, PREGUNTAR AL PROFESOR si se puede utilizar.\n",
    "\n",
    "### scipy.signal \n",
    "Si no se peude mirar en este [enlace](https://docs.scipy.org/doc/scipy/reference/signal.html) y pdoer aplicar el filtorde Weiner (para su aplicación hay que estimar el ruido)"
   ]
  },
  {
   "cell_type": "markdown",
   "id": "ef0e5098",
   "metadata": {},
   "source": [
    "## Mejor cálculo de huellas vocales\n",
    "\n",
    "Mirar la [documentación](https://librosa.org/doc/latest/feature.html) de librosa.feature.delta para calcular deltas (velocidad) y delta-deltas (aceleración) de los MFCCs."
   ]
  },
  {
   "cell_type": "code",
   "execution_count": null,
   "id": "d759bcae",
   "metadata": {},
   "outputs": [],
   "source": [
    "import librosa\n",
    "import librosa.util\n",
    "import numpy as np\n",
    "\n",
    "def compute_vocal_fingerprint_deltas_mean(audio_path, sr=16000, n_mfcc=13):\n",
    "    y, sr = librosa.load(audio_path, sr=sr)\n",
    "    y = librosa.util.normalize(y)\n",
    "\n",
    "    # --- MODIFICADO ---\n",
    "    mfccs = librosa.feature.mfcc(y=y, sr=sr, n_mfcc=n_mfcc)\n",
    "    # Calcular deltas (orden 1)\n",
    "    delta_mfccs = librosa.feature.delta(mfccs)\n",
    "    # Calcular delta-deltas (orden 2)\n",
    "    delta2_mfccs = librosa.feature.delta(mfccs, order=2)\n",
    "\n",
    "    # Combinar las características (ahora tenemos 3*n_mfcc filas)\n",
    "    combined_features = np.concatenate((mfccs, delta_mfccs, delta2_mfccs))\n",
    "\n",
    "    # Promediar todas juntas\n",
    "    huella_vocal = np.mean(combined_features, axis=1)\n",
    "    # ----------------\n",
    "    # La huella ahora tiene n_mfcc * 3 elementos\n",
    "    return huella_vocal\n"
   ]
  },
  {
   "cell_type": "markdown",
   "id": "b96c9e3a",
   "metadata": {},
   "source": [
    "## Uso de mejores modelos\n",
    "\n",
    "### Métricas de Distancia Alternativas\n",
    "[SciPy Spatial Distance](https://docs.scipy.org/doc/scipy/reference/spatial.distance.html) (scipy.spatial.distance): Para usar distancias como Coseno (cosine) o Manhattan (cityblock) en lugar de Euclidiana.\n",
    "\n"
   ]
  },
  {
   "cell_type": "code",
   "execution_count": null,
   "id": "4c1128a5",
   "metadata": {},
   "outputs": [],
   "source": [
    "# --- Comparación con Distancia Coseno ---\n",
    "from scipy.spatial.distance import cosine # Importar cosine\n",
    "\n",
    "def compare_vocal_fingerprints_cosine(x, y, threshold=0.4): # UMBRAL DIFERENTE!\n",
    "    # x e y son las huellas obtenidas de alguna de las funciones anteriores\n",
    "\n",
    "    # La distancia coseno va de 0 (idénticos) a 2 (opuestos)\n",
    "    distance = cosine(x, y)\n",
    "    # ----------------\n",
    "\n",
    "    # La decisión es la misma: distancia < umbral, pero el umbral es distinto\n",
    "    # Umbrales típicos para coseno suelen ser < 1 (ej. 0.1 a 0.6)\n",
    "    return distance < threshold, distance"
   ]
  },
  {
   "cell_type": "markdown",
   "id": "29bbcbcd",
   "metadata": {},
   "source": [
    "### Modelos Probabilísticos\n",
    "[Scikit-learn Docs](https://scikit-learn.org/stable/modules/mixture.html) - Gaussian Mixture Models: Para implementar GMMs (sklearn.mixture.GaussianMixture) y usarlos para modelar la distribución de características de cada locutor.\n",
    "\n",
    "### Redes Neuronales\n",
    "[Tutorial Keras](https://keras.io/examples/vision/siamese_network/) - Siamese Networks: Aplicar el concepto de redes siamesas para aprender una métrica de distancia sobre las huellas vocales."
   ]
  }
 ],
 "metadata": {
  "kernelspec": {
   "display_name": "TID24",
   "language": "python",
   "name": "python3"
  },
  "language_info": {
   "codemirror_mode": {
    "name": "ipython",
    "version": 3
   },
   "file_extension": ".py",
   "mimetype": "text/x-python",
   "name": "python",
   "nbconvert_exporter": "python",
   "pygments_lexer": "ipython3",
   "version": "3.12.5"
  }
 },
 "nbformat": 4,
 "nbformat_minor": 5
}
