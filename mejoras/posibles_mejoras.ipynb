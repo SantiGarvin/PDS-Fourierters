{
 "cells": [
  {
   "cell_type": "markdown",
   "id": "3926af65",
   "metadata": {},
   "source": [
    "# POSIBLES MEJORAS\n",
    "\n",
    "Se descirbirán posibles mejoras para aplicar al proyecto base"
   ]
  },
  {
   "cell_type": "markdown",
   "id": "ee1b0550",
   "metadata": {},
   "source": [
    "## Reducción de Ruido:\n",
    "\n",
    "### Libería Pedalboard\n",
    "\n",
    "En el siguiente [articulo](https://medium.com/@joshiprerak123/transform-your-audio-denoise-and-enhance-sound-quality-with-python-using-pedalboard-24da7c1df042) se describe como hacerlo, PREGUNTAR AL PROFESOR si se puede utilizar.\n",
    "\n",
    "### scipy.signal \n",
    "Si no se peude mirar en este [enlace](https://docs.scipy.org/doc/scipy/reference/signal.html) y pdoer aplicar el filtorde Weiner (para su aplicación hay que estimar el ruido)"
   ]
  },
  {
   "cell_type": "markdown",
   "id": "ef0e5098",
   "metadata": {},
   "source": [
    "## Mejor cálculo de huellas vocales\n",
    "\n",
    "Mirar la [documentación](https://librosa.org/doc/latest/feature.html) de librosa.feature.delta para calcular deltas (velocidad) y delta-deltas (aceleración) de los MFCCs."
   ]
  },
  {
   "cell_type": "markdown",
   "id": "b96c9e3a",
   "metadata": {},
   "source": [
    "## Uso de mejores modelos\n",
    "\n",
    "### Métricas de Distancia Alternativas\n",
    "[SciPy Spatial Distance](https://docs.scipy.org/doc/scipy/reference/spatial.distance.html) (scipy.spatial.distance): Para usar distancias como Coseno (cosine) o Manhattan (cityblock) en lugar de Euclidiana.\n",
    "\n",
    "### Modelos Probabilísticos\n",
    "[Scikit-learn Docs](https://scikit-learn.org/stable/modules/mixture.html) - Gaussian Mixture Models: Para implementar GMMs (sklearn.mixture.GaussianMixture) y usarlos para modelar la distribución de características de cada locutor.\n",
    "\n",
    "### Redes Neuronales\n",
    "[Tutorial Keras](https://keras.io/examples/vision/siamese_network/) - Siamese Networks: Aplicar el concepto de redes siamesas para aprender una métrica de distancia sobre las huellas vocales."
   ]
  }
 ],
 "metadata": {
  "language_info": {
   "name": "python"
  }
 },
 "nbformat": 4,
 "nbformat_minor": 5
}
